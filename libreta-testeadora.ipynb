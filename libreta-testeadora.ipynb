{
 "cells": [
  {
   "cell_type": "markdown",
   "metadata": {},
   "source": [
    "---\n",
    "# Importación y parseo de el codigo xml para luego llevarlo a un json\n",
    "---"
   ]
  },
  {
   "cell_type": "code",
   "execution_count": 1,
   "metadata": {},
   "outputs": [
    {
     "name": "stdout",
     "output_type": "stream",
     "text": [
      "Solicitud exitosa para ley: 20000\n"
     ]
    }
   ],
   "source": [
    "from bs4 import BeautifulSoup\n",
    "from datetime import datetime\n",
    "import requests\n",
    "import json\n",
    "\n",
    "idLey = 20000\n",
    "url = 'http://www.leychile.cl/Consulta/obtxml?opt=7&idLey=' + str(idLey)\n",
    "xml_data = requests.get(url).content  # Conseguir el contenido en xml\n",
    "print(f\"Solicitud exitosa para ley: {str(idLey)}\")\n",
    "xml_parser =BeautifulSoup(xml_data, \"xml\")  # objeto que contiene la sopita"
   ]
  },
  {
   "cell_type": "markdown",
   "metadata": {},
   "source": [
    "---\n",
    "# TipoNumero elementos\n",
    "---"
   ]
  },
  {
   "cell_type": "code",
   "execution_count": 2,
   "metadata": {},
   "outputs": [],
   "source": [
    "tipoLey = xml_parser.find('Tipo').contents[0]"
   ]
  },
  {
   "cell_type": "code",
   "execution_count": 3,
   "metadata": {},
   "outputs": [],
   "source": [
    "numeroLey = xml_parser.find('Numero').contents[0]"
   ]
  },
  {
   "cell_type": "code",
   "execution_count": 4,
   "metadata": {},
   "outputs": [],
   "source": [
    "TipoNumero = {\n",
    "    'Tipo':tipoLey,\n",
    "    'Numero': numeroLey\n",
    "}"
   ]
  },
  {
   "cell_type": "code",
   "execution_count": 5,
   "metadata": {},
   "outputs": [
    {
     "data": {
      "text/plain": [
       "'Ley'"
      ]
     },
     "execution_count": 5,
     "metadata": {},
     "output_type": "execute_result"
    }
   ],
   "source": [
    "TipoNumero['Tipo']"
   ]
  },
  {
   "cell_type": "code",
   "execution_count": 6,
   "metadata": {},
   "outputs": [
    {
     "data": {
      "text/plain": [
       "'20000'"
      ]
     },
     "execution_count": 6,
     "metadata": {},
     "output_type": "execute_result"
    }
   ],
   "source": [
    "TipoNumero['Numero']"
   ]
  },
  {
   "cell_type": "markdown",
   "metadata": {},
   "source": [
    "Guardado de elementos en un archivo tipo json"
   ]
  },
  {
   "cell_type": "code",
   "execution_count": 7,
   "metadata": {},
   "outputs": [],
   "source": [
    "jsonTipoNumero = json.dumps(TipoNumero)"
   ]
  },
  {
   "cell_type": "code",
   "execution_count": 8,
   "metadata": {},
   "outputs": [
    {
     "data": {
      "text/plain": [
       "'{\"Tipo\": \"Ley\", \"Numero\": \"20000\"}'"
      ]
     },
     "execution_count": 8,
     "metadata": {},
     "output_type": "execute_result"
    }
   ],
   "source": [
    "jsonTipoNumero"
   ]
  },
  {
   "cell_type": "markdown",
   "metadata": {},
   "source": [
    "---\n",
    "# Clase Identificador\n",
    "---"
   ]
  },
  {
   "cell_type": "markdown",
   "metadata": {},
   "source": [
    "Obtener lista de organismos"
   ]
  },
  {
   "cell_type": "code",
   "execution_count": 9,
   "metadata": {},
   "outputs": [],
   "source": [
    "organismos = []\n",
    "identificador_parser = xml_parser.find('Identificador')\n",
    "organismos_parser = identificador_parser.Organismos\n",
    "for organismo_parser in organismos_parser:\n",
    "    if organismo_parser != \"\\n\":\n",
    "        organismos.append(organismo_parser.contents[0])"
   ]
  },
  {
   "cell_type": "markdown",
   "metadata": {},
   "source": [
    "obtener fechas de publicacion y promulgación"
   ]
  },
  {
   "cell_type": "code",
   "execution_count": 10,
   "metadata": {},
   "outputs": [
    {
     "name": "stdout",
     "output_type": "stream",
     "text": [
      "2005-02-02 00:00:00 2005-02-16 00:00:00\n"
     ]
    }
   ],
   "source": [
    "fechaPublicacion_parser = identificador_parser['fechaPublicacion']\n",
    "fechaPublicacion = datetime.strptime(fechaPublicacion_parser, '%Y-%m-%d')\n",
    "\n",
    "fechaPromulgacion_parser = identificador_parser['fechaPromulgacion']\n",
    "fechaPromulgacion = datetime.strptime(fechaPromulgacion_parser, '%Y-%m-%d')\n",
    "\n",
    "print(fechaPromulgacion, fechaPublicacion)"
   ]
  },
  {
   "cell_type": "code",
   "execution_count": 11,
   "metadata": {},
   "outputs": [],
   "source": [
    "metadatos_parser = xml_parser.Metadatos"
   ]
  },
  {
   "cell_type": "markdown",
   "metadata": {},
   "source": [
    "---\n",
    "# Clase Metadato\n",
    "---"
   ]
  },
  {
   "cell_type": "code",
   "execution_count": 12,
   "metadata": {},
   "outputs": [
    {
     "data": {
      "text/plain": [
       "'SUSTITUYE LA LEY Nº 19.366, QUE SANCIONA EL TRAFICO ILICITO DE ESTUPEFACIENTES Y SUSTANCIAS SICOTROPICAS'"
      ]
     },
     "execution_count": 12,
     "metadata": {},
     "output_type": "execute_result"
    }
   ],
   "source": [
    "tituloNorma = metadatos_parser.TituloNorma.contents[0]\n",
    "tituloNorma"
   ]
  },
  {
   "cell_type": "code",
   "execution_count": 13,
   "metadata": {},
   "outputs": [
    {
     "data": {
      "text/plain": [
       "['Narcóticos', 'Control de Medicamentos y Narcóticos', 'Ley no. 20.000']"
      ]
     },
     "execution_count": 13,
     "metadata": {},
     "output_type": "execute_result"
    }
   ],
   "source": [
    "materias = []\n",
    "listaMaterias = metadatos_parser.Materias\n",
    "for materia in listaMaterias:\n",
    "    if materia != \"\\n\":\n",
    "        materias.append(materia.contents[0])\n",
    "materias"
   ]
  },
  {
   "cell_type": "code",
   "execution_count": 14,
   "metadata": {},
   "outputs": [
    {
     "data": {
      "text/plain": [
       "'Diario Oficial'"
      ]
     },
     "execution_count": 14,
     "metadata": {},
     "output_type": "execute_result"
    }
   ],
   "source": [
    "identificacionFuente = xml_parser.find('IdentificacionFuente').contents[0]\n",
    "identificacionFuente"
   ]
  },
  {
   "cell_type": "code",
   "execution_count": 15,
   "metadata": {},
   "outputs": [
    {
     "data": {
      "text/plain": [
       "'38088'"
      ]
     },
     "execution_count": 15,
     "metadata": {},
     "output_type": "execute_result"
    }
   ],
   "source": [
    "numeroFuente = xml_parser.find('NumeroFuente').contents[0]\n",
    "numeroFuente"
   ]
  },
  {
   "cell_type": "code",
   "execution_count": null,
   "metadata": {},
   "outputs": [],
   "source": []
  },
  {
   "cell_type": "markdown",
   "metadata": {},
   "source": [
    "---\n",
    "# Clase Anexo\n",
    "---"
   ]
  },
  {
   "cell_type": "code",
   "execution_count": 23,
   "metadata": {},
   "outputs": [
    {
     "name": "stdout",
     "output_type": "stream",
     "text": [
      "<Anexo derogado=\"no derogado\" fechaVersion=\"2005-02-16\" idParte=\"8652278\" transitorio=\"no transitorio\">\n",
      "<Metadatos>\n",
      "<Titulo>Proyecto de Ley que sustituye la ley Nº 19.366, que\n",
      "sanciona el tráfico ilícito de estupefacientes y\n",
      "sustancias sicotrópicas</Titulo>\n",
      "</Metadatos>\n",
      "<Texto>\n",
      "              Tribunal Constitucional\n",
      " Proyecto de Ley que sustituye la ley Nº 19.366, que\n",
      "sanciona el tráfico ilícito de estupefacientes y\n",
      "sustancias sicotrópicas\n",
      " El Secretario del Tribunal Constitucional, quien suscribe,\n",
      "certifica que la Honorable Cámara de Diputados envió el\n",
      "proyecto de ley enunciado en el rubro, aprobado por el\n",
      "Congreso Nacional, a fin de que este Tribunal ejerciera el\n",
      "control de constitucionalidad respecto de los artículos 26,\n",
      "27, 54, 68, 69, 70, 71, 72, 73, 74, 75 y 76 permanentes y\n",
      "3º transitorio del mismo, y por sentencia de 25 de enero de\n",
      "2005, dictada en los autos Rol Nº 433, declaró:\n",
      "1.  Que los artículos 26, 27 -salvo la letra a) de su\n",
      "inciso segundo-, 54, 68, 69, 70, 72, 73, 74 -sin perjuicio\n",
      "de lo señalado en la declaración segunda- , 75 -sin\n",
      "perjuicio de lo señalado en la declaración tercera-, y 76\n",
      "permanentes y 3º transitorio del proyecto remitido, son\n",
      "constitucionales.\n",
      "2.  Que, igualmente, el artículo 74, Nºs. 2 y 3, del\n",
      "proyecto remitido es constitucional en el entendido de lo\n",
      "señalado en el considerando cuadragésimo noveno de esta\n",
      "sentencia.\n",
      "3.  Que, de la misma manera, el artículo 75, letra b), del\n",
      "proyecto remitido es constitucional en el entendido de lo\n",
      "señalado en el considerando quincuagésimo cuarto de esta\n",
      "sentencia.\n",
      "4.  Que la letra a) del inciso segundo del artículo 27 del\n",
      "proyecto remitido es inconstitucional y debe ser eliminado\n",
      "de su texto.\n",
      "5.  Que el artículo 71 del proyecto remitido es\n",
      "inconstitucional y debe ser eliminado de su texto.\n",
      "6.  Que el artículo 63, inciso segundo, del proyecto\n",
      "remitido es igualmente inconstitucional y debe ser eliminado\n",
      "de su texto.\n",
      " Santiago, enero 26 de 2005.- Rafael Larraín Cruz,\n",
      "Secretario.</Texto>\n",
      "</Anexo>\n"
     ]
    },
    {
     "data": {
      "text/plain": [
       "'\\ntituloAnexo = anexos_parser.Anexo\\ntituloAnexo\\nanexos = []\\nfor anexo in anexos_parser:\\n    anexos.append(anexo)\\n    '"
      ]
     },
     "execution_count": 23,
     "metadata": {},
     "output_type": "execute_result"
    }
   ],
   "source": [
    "anexos_parser = xml_parser.Anexos\n",
    "listaAnexos = anexos_parser.Anexo\n",
    "anexos = []\n",
    "for anexo in listaAnexos:\n",
    "    if anexo != \"\\n\":\n",
    "        anexos.append(anexo)\n",
    "print(listaAnexos)\n",
    "'''\n",
    "tituloAnexo = anexos_parser.Anexo\n",
    "tituloAnexo\n",
    "anexos = []\n",
    "for anexo in anexos_parser:\n",
    "    anexos.append(anexo)\n",
    "    '''"
   ]
  },
  {
   "cell_type": "code",
   "execution_count": null,
   "metadata": {},
   "outputs": [],
   "source": []
  }
 ],
 "metadata": {
  "interpreter": {
   "hash": "f390931a1fbaa3132b11dc9a4dcde197bb6cfd558eb1bffcb5ed72cbee88c2ef"
  },
  "kernelspec": {
   "display_name": "Python 3.9.4 64-bit",
   "language": "python",
   "name": "python3"
  },
  "language_info": {
   "codemirror_mode": {
    "name": "ipython",
    "version": 3
   },
   "file_extension": ".py",
   "mimetype": "text/x-python",
   "name": "python",
   "nbconvert_exporter": "python",
   "pygments_lexer": "ipython3",
   "version": "3.9.4"
  },
  "orig_nbformat": 4
 },
 "nbformat": 4,
 "nbformat_minor": 2
}
