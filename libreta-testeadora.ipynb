{
 "cells": [
  {
   "cell_type": "markdown",
   "metadata": {},
   "source": [
    "---\n",
    "# Importación y parseo de el codigo xml para luego llevarlo a un json\n",
    "---"
   ]
  },
  {
   "cell_type": "code",
   "execution_count": 1,
   "metadata": {},
   "outputs": [
    {
     "name": "stdout",
     "output_type": "stream",
     "text": [
      "Solicitud exitosa para ley: 20000\n"
     ]
    }
   ],
   "source": [
    "from bs4 import BeautifulSoup\n",
    "from datetime import datetime\n",
    "import requests\n",
    "import json\n",
    "\n",
    "idLey = 20000\n",
    "url = 'http://www.leychile.cl/Consulta/obtxml?opt=7&idLey=' + str(idLey)\n",
    "xml_data = requests.get(url).content  # Conseguir el contenido en xml\n",
    "print(f\"Solicitud exitosa para ley: {str(idLey)}\")\n",
    "xml_parser =BeautifulSoup(xml_data, \"xml\")  # objeto que contiene la sopita"
   ]
  },
  {
   "cell_type": "markdown",
   "metadata": {},
   "source": [
    "---\n",
    "# TipoNumero elementos\n",
    "---"
   ]
  },
  {
   "cell_type": "code",
   "execution_count": 2,
   "metadata": {},
   "outputs": [],
   "source": [
    "tipoLey = xml_parser.find('Tipo').contents[0]"
   ]
  },
  {
   "cell_type": "code",
   "execution_count": 3,
   "metadata": {},
   "outputs": [],
   "source": [
    "numeroLey = xml_parser.find('Numero').contents[0]"
   ]
  },
  {
   "cell_type": "code",
   "execution_count": 4,
   "metadata": {},
   "outputs": [],
   "source": [
    "TipoNumero = {\n",
    "    'Tipo':tipoLey,\n",
    "    'Numero': numeroLey\n",
    "}"
   ]
  },
  {
   "cell_type": "code",
   "execution_count": 5,
   "metadata": {},
   "outputs": [
    {
     "data": {
      "text/plain": [
       "'Ley'"
      ]
     },
     "execution_count": 5,
     "metadata": {},
     "output_type": "execute_result"
    }
   ],
   "source": [
    "TipoNumero['Tipo']"
   ]
  },
  {
   "cell_type": "code",
   "execution_count": 6,
   "metadata": {},
   "outputs": [
    {
     "data": {
      "text/plain": [
       "'20000'"
      ]
     },
     "execution_count": 6,
     "metadata": {},
     "output_type": "execute_result"
    }
   ],
   "source": [
    "TipoNumero['Numero']"
   ]
  },
  {
   "cell_type": "markdown",
   "metadata": {},
   "source": [
    "Guardado de elementos en un archivo tipo json"
   ]
  },
  {
   "cell_type": "code",
   "execution_count": 7,
   "metadata": {},
   "outputs": [],
   "source": [
    "jsonTipoNumero = json.dumps(TipoNumero)"
   ]
  },
  {
   "cell_type": "code",
   "execution_count": 8,
   "metadata": {},
   "outputs": [
    {
     "data": {
      "text/plain": [
       "'{\"Tipo\": \"Ley\", \"Numero\": \"20000\"}'"
      ]
     },
     "execution_count": 8,
     "metadata": {},
     "output_type": "execute_result"
    }
   ],
   "source": [
    "jsonTipoNumero"
   ]
  },
  {
   "cell_type": "markdown",
   "metadata": {},
   "source": [
    "---\n",
    "# Clase Identificador\n",
    "---"
   ]
  },
  {
   "cell_type": "markdown",
   "metadata": {},
   "source": [
    "Obtener lista de organismos"
   ]
  },
  {
   "cell_type": "code",
   "execution_count": 9,
   "metadata": {},
   "outputs": [],
   "source": [
    "organismos = []\n",
    "identificador_parser = xml_parser.find('Identificador')\n",
    "organismos_parser = identificador_parser.Organismos\n",
    "for organismo_parser in organismos_parser:\n",
    "    if organismo_parser != \"\\n\":\n",
    "        organismos.append(organismo_parser.contents[0])"
   ]
  },
  {
   "cell_type": "markdown",
   "metadata": {},
   "source": [
    "obtener fechas de publicacion y promulgación"
   ]
  },
  {
   "cell_type": "code",
   "execution_count": 10,
   "metadata": {},
   "outputs": [
    {
     "name": "stdout",
     "output_type": "stream",
     "text": [
      "2005-02-02 00:00:00 2005-02-16 00:00:00\n"
     ]
    }
   ],
   "source": [
    "fechaPublicacion_parser = identificador_parser['fechaPublicacion']\n",
    "fechaPublicacion = datetime.strptime(fechaPublicacion_parser, '%Y-%m-%d')\n",
    "\n",
    "fechaPromulgacion_parser = identificador_parser['fechaPromulgacion']\n",
    "fechaPromulgacion = datetime.strptime(fechaPromulgacion_parser, '%Y-%m-%d')\n",
    "\n",
    "print(fechaPromulgacion, fechaPublicacion)"
   ]
  },
  {
   "cell_type": "code",
   "execution_count": 11,
   "metadata": {},
   "outputs": [],
   "source": [
    "metadatos_parser = xml_parser.Metadatos"
   ]
  },
  {
   "cell_type": "markdown",
   "metadata": {},
   "source": [
    "---\n",
    "# Clase Metadato\n",
    "---"
   ]
  },
  {
   "cell_type": "code",
   "execution_count": 12,
   "metadata": {},
   "outputs": [
    {
     "data": {
      "text/plain": [
       "'SUSTITUYE LA LEY Nº 19.366, QUE SANCIONA EL TRAFICO ILICITO DE ESTUPEFACIENTES Y SUSTANCIAS SICOTROPICAS'"
      ]
     },
     "execution_count": 12,
     "metadata": {},
     "output_type": "execute_result"
    }
   ],
   "source": [
    "tituloNorma = metadatos_parser.TituloNorma.contents[0]\n",
    "tituloNorma"
   ]
  },
  {
   "cell_type": "code",
   "execution_count": 13,
   "metadata": {},
   "outputs": [
    {
     "data": {
      "text/plain": [
       "['Narcóticos', 'Control de Medicamentos y Narcóticos', 'Ley no. 20.000']"
      ]
     },
     "execution_count": 13,
     "metadata": {},
     "output_type": "execute_result"
    }
   ],
   "source": [
    "materias = []\n",
    "listaMaterias = metadatos_parser.Materias\n",
    "for materia in listaMaterias:\n",
    "    if materia != \"\\n\":\n",
    "        materias.append(materia.contents[0])\n",
    "materias"
   ]
  },
  {
   "cell_type": "code",
   "execution_count": 14,
   "metadata": {},
   "outputs": [
    {
     "data": {
      "text/plain": [
       "'Diario Oficial'"
      ]
     },
     "execution_count": 14,
     "metadata": {},
     "output_type": "execute_result"
    }
   ],
   "source": [
    "identificacionFuente = xml_parser.find('IdentificacionFuente').contents[0]\n",
    "identificacionFuente"
   ]
  },
  {
   "cell_type": "code",
   "execution_count": 15,
   "metadata": {},
   "outputs": [
    {
     "data": {
      "text/plain": [
       "'38088'"
      ]
     },
     "execution_count": 15,
     "metadata": {},
     "output_type": "execute_result"
    }
   ],
   "source": [
    "numeroFuente = xml_parser.find('NumeroFuente').contents[0]\n",
    "numeroFuente"
   ]
  },
  {
   "cell_type": "code",
   "execution_count": null,
   "metadata": {},
   "outputs": [],
   "source": []
  },
  {
   "cell_type": "markdown",
   "metadata": {},
   "source": [
    "---\n",
    "# Clase Anexo\n",
    "---"
   ]
  },
  {
   "cell_type": "code",
   "execution_count": null,
   "metadata": {},
   "outputs": [],
   "source": [
    "anexos_parser = xml_parser.Anexos\n",
    "listaAnexos = anexos_parser.Anexo\n",
    "anexos = []\n",
    "for anexo in listaAnexos:\n",
    "    if anexo != \"\\n\":\n",
    "        anexos.append(anexo)\n",
    "print(anexos)\n",
    "'''\n",
    "tituloAnexo = anexos_parser.Anexo\n",
    "tituloAnexo\n",
    "anexos = []\n",
    "for anexo in anexos_parser:\n",
    "    anexos.append(anexo)\n",
    "    '''"
   ]
  },
  {
   "cell_type": "code",
   "execution_count": null,
   "metadata": {},
   "outputs": [],
   "source": []
  }
 ],
 "metadata": {
  "interpreter": {
   "hash": "f390931a1fbaa3132b11dc9a4dcde197bb6cfd558eb1bffcb5ed72cbee88c2ef"
  },
  "kernelspec": {
   "display_name": "Python 3.9.4 64-bit",
   "language": "python",
   "name": "python3"
  },
  "language_info": {
   "codemirror_mode": {
    "name": "ipython",
    "version": 3
   },
   "file_extension": ".py",
   "mimetype": "text/x-python",
   "name": "python",
   "nbconvert_exporter": "python",
   "pygments_lexer": "ipython3",
   "version": "3.9.4"
  },
  "orig_nbformat": 4
 },
 "nbformat": 4,
 "nbformat_minor": 2
}
